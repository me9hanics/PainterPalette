{
 "cells": [
  {
   "cell_type": "markdown",
   "metadata": {},
   "source": [
    "# WikiArt dataset cleaning, extending\n",
    "\n",
    "WikiArt: all art pieces stored as a picture in Wikipedia (till a certain date).<br>\n",
    "Original gathering and steps is in the *datasets/originals/wikiart_initial.ipynb* file. This file contains the updates since 2024.02.05."
   ]
  }
 ],
 "metadata": {
  "kernelspec": {
   "display_name": "work",
   "language": "python",
   "name": "python3"
  },
  "language_info": {
   "codemirror_mode": {
    "name": "ipython",
    "version": 3
   },
   "file_extension": ".py",
   "mimetype": "text/x-python",
   "name": "python",
   "nbconvert_exporter": "python",
   "pygments_lexer": "ipython3",
   "version": "3.10.11"
  }
 },
 "nbformat": 4,
 "nbformat_minor": 2
}
