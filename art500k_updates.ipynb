{
 "cells": [
  {
   "cell_type": "markdown",
   "metadata": {},
   "source": [
    "# Current version: 0.2.1 (unfinished)"
   ]
  },
  {
   "cell_type": "markdown",
   "metadata": {},
   "source": [
    "From 2024, updates to the dataset are handled and stored in a separate file. This is that file (previously, all Art500k dataset processing was done in *art500k.csv*, the file now renamed to *art500k_initial*)."
   ]
  },
  {
   "cell_type": "code",
   "execution_count": 2,
   "metadata": {},
   "outputs": [],
   "source": [
    "import numpy as np\n",
    "import pandas as pd\n",
    "\n",
    "url_v_latest = \"https://raw.githubusercontent.com/me9hanics/PainterPalette/main/datasets/artists.csv\"\n",
    "artists = pd.read_csv(url_v_latest)"
   ]
  },
  {
   "cell_type": "markdown",
   "metadata": {},
   "source": [
    "## 2024.01.07: Use measures to find artists with multiple names (aliases)"
   ]
  },
  {
   "cell_type": "markdown",
   "metadata": {},
   "source": [
    "If we take a look at popular artists in the dataset, for example Rembrandt:"
   ]
  },
  {
   "cell_type": "code",
   "execution_count": 4,
   "metadata": {},
   "outputs": [],
   "source": [
    "url_v_01_09 = \"https://raw.githubusercontent.com/me9hanics/PainterPalette/main/datasets/saves/artists_0_1.csv\"\n",
    "artists = pd.read_csv(url_v_01_09)"
   ]
  },
  {
   "cell_type": "markdown",
   "metadata": {},
   "source": [
    "Considered measures:\n",
    "\n",
    "* Fuzzy string matching (Levenshtein distance) between artist names. \n",
    "* Basic string containment (other artists names containing one word artist names, e.g. Rembrandt).\n",
    "* Token-Based Matching (TBM) (Jaccard similarity) between artist names.\n",
    "* Named Entity Recognition (NER) (Spacy) to find artist names from text, then apply Coreference Resolution to link pronouns and other expressions to the correct entities.\n",
    "\n",
    "\n",
    "Other considerations: <br>\n",
    "* Phonetic matching: This could be helpful when an artist's name is spelled differently in different languages, e.g. \"Č\" (Czech) / \"Ch\" (English) / \"cs\" (Hungarian). Even if this is the case for some instances, we should find these with the Levenshtein distance search. <br>\n",
    "* Online available resources for aliases, web scraping, etc.\n",
    "* Custom rules (e.g \"... and his workshop\", \"... and his circle\", etc.)"
   ]
  },
  {
   "cell_type": "code",
   "execution_count": null,
   "metadata": {},
   "outputs": [],
   "source": [
    "import pandas as pd\n",
    "from fuzzywuzzy import fuzz, process\n",
    "\n",
    "def fuzzy_match(target, choices, threshold=50):\n",
    "    \"\"\"\n",
    "    Perform fuzzy string matching and return the best matches above the threshold.\n",
    "    \"\"\"\n",
    "    #result, score, index = process.extractOne(target, choices, scorer=fuzz.ratio)\n",
    "    results = process.extractBests(target, choices, scorer=fuzz.ratio)\n",
    "    scores = [score for _, score, _ in results]\n",
    "    print(results, scores) \n",
    "    wins = [r for r in results if r[1] > threshold]\n",
    "\n",
    "    return wins[0]\n",
    "\n",
    "\n",
    "matches = {}\n",
    "\n",
    "for clean_artist in df_clean['artist']:\n",
    "    match = fuzzy_match(clean_artist, df_dirty['artist'])\n",
    "    if match:\n",
    "        print(f'\"{clean_artist}\" matches \"{match}\"')\n",
    "        matches[clean_artist] = match\n"
   ]
  },
  {
   "cell_type": "code",
   "execution_count": 6,
   "metadata": {},
   "outputs": [
    {
     "name": "stdout",
     "output_type": "stream",
     "text": [
      "Michelangelo Merisi da Caravaggio: ['Michelangelo Merisi da']\n",
      "Michelangelo Merisi da: ['Michelangelo Merisi da Caravaggio', 'Caravaggio, Michelangelo Merisi da (Italian, Milan or Caravaggio 1571-1610 Porto Ercole)']\n",
      "Caravaggio, Michelangelo Merisi da: ['Michelangelo Merisi', 'Caravaggio']\n",
      "Caravaggio: ['Caravaggio, Michelangelo Merisi da', 'Caravaggio, Michelangelo Merisi da (Italian, Milan or Caravaggio 1571-1610 Porto Ercole)']\n",
      "Michelangelo Merisi: ['Caravaggio, Michelangelo Merisi da']\n",
      "Caravaggio, Michelangelo Merisi da (Italian, Milan or Caravaggio 1571-1610 Porto Ercole): ['Michelangelo Merisi da', 'Caravaggio']\n"
     ]
    }
   ],
   "source": [
    "import spacy\n",
    "\n",
    "# Sample data\n",
    "data = {\n",
    "    'author_name': ['Rembrandt', 'Rembrandt van Rijn', 'Rembrandt Peale', 'Michelangelo', 'Michelangelo Buonarroti', 'Michelangelo Merisi da Caravaggio', 'Caravaggio', 'Caravaggio, Michelangelo Merisi da', 'Caravaggio, Michelangelo Merisi da (Italian, Milan or Caravaggio 1571-1610 Porto Ercole)', 'Leonardo', 'Leonardo da Vinci'],\n",
    "}\n",
    "\n",
    "# Assuming your dataframe is named df\n",
    "df = pd.DataFrame(data)\n",
    "\n",
    "# Load spaCy model\n",
    "nlp = spacy.load(\"en_core_web_sm\")\n",
    "\n",
    "# Extract entities using spaCy NER\n",
    "aliases = {}\n",
    "\n",
    "for name in df['author_name']:\n",
    "    doc = nlp(name)\n",
    "    for ent in doc.ents:\n",
    "        if ent.label_ == 'PERSON' and ent.text != name:\n",
    "            aliases.setdefault(name, set()).add(ent.text)\n",
    "            aliases.setdefault(ent.text, set()).add(name)\n",
    "\n",
    "# Convert sets to lists\n",
    "aliases = {key: list(value) for key, value in aliases.items()}\n",
    "\n",
    "for key, value in aliases.items():\n",
    "    print(f'{key}: {value}')\n"
   ]
  },
  {
   "cell_type": "code",
   "execution_count": 10,
   "metadata": {},
   "outputs": [
    {
     "data": {
      "text/plain": [
       "{'Rembrandt van Rijn': ['Rembrandt van Rijn'],\n",
       " 'Rembrandt Peale': ['Rembrandt Peale'],\n",
       " 'Michelangelo': ['Michelangelo'],\n",
       " 'Michelangelo Buonarroti': ['Michelangelo Buonarroti'],\n",
       " 'Michelangelo Merisi da Caravaggio': ['Michelangelo Merisi da'],\n",
       " 'Michelangelo Merisi da': ['Michelangelo Merisi da Caravaggio',\n",
       "  'Caravaggio, Michelangelo Merisi da (Italian, Milan or Caravaggio 1571-1610 Porto Ercole)'],\n",
       " 'Caravaggio, Michelangelo Merisi da': ['Michelangelo Merisi', 'Caravaggio'],\n",
       " 'Caravaggio': ['Caravaggio, Michelangelo Merisi da',\n",
       "  'Caravaggio, Michelangelo Merisi da (Italian, Milan or Caravaggio 1571-1610 Porto Ercole)'],\n",
       " 'Michelangelo Merisi': ['Caravaggio, Michelangelo Merisi da'],\n",
       " 'Caravaggio, Michelangelo Merisi da (Italian, Milan or Caravaggio 1571-1610 Porto Ercole)': ['Michelangelo Merisi da',\n",
       "  'Caravaggio'],\n",
       " 'Leonardo': ['Leonardo'],\n",
       " 'Leonardo da Vinci': ['Leonardo da Vinci']}"
      ]
     },
     "execution_count": 10,
     "metadata": {},
     "output_type": "execute_result"
    }
   ],
   "source": [
    "import spacy\n",
    "import pandas as pd\n",
    "\n",
    "# Sample data\n",
    "data = {\n",
    "    'author_name': ['Rembrandt', 'Rembrandt van Rijn', 'Rembrandt Peale', 'Michelangelo', 'Michelangelo Buonarroti', 'Michelangelo Merisi da Caravaggio', 'Caravaggio', 'Caravaggio, Michelangelo Merisi da', 'Caravaggio, Michelangelo Merisi da (Italian, Milan or Caravaggio 1571-1610 Porto Ercole)', 'Leonardo', 'Leonardo da Vinci'],\n",
    "}\n",
    "\n",
    "# Assuming your dataframe is named df\n",
    "df = pd.DataFrame(data)\n",
    "\n",
    "# Load spaCy model\n",
    "nlp = spacy.load(\"en_core_web_sm\")\n",
    "\n",
    "# Extract entities using spaCy NER\n",
    "aliases = {}\n",
    "\n",
    "for name in df['author_name']:\n",
    "    doc = nlp(name)\n",
    "    for ent in doc.ents:\n",
    "        if ent.label_ == 'PERSON':\n",
    "            aliases.setdefault(name, set()).add(ent.text)\n",
    "            aliases.setdefault(ent.text, set()).add(name)\n",
    "\n",
    "# Convert sets to lists\n",
    "aliases = {key: list(value) for key, value in aliases.items()}\n",
    "aliases"
   ]
  },
  {
   "cell_type": "code",
   "execution_count": 9,
   "metadata": {},
   "outputs": [
    {
     "name": "stdout",
     "output_type": "stream",
     "text": [
      "['Rembrandt van Rijn']\n",
      "['Rembrandt Peale']\n",
      "['Michelangelo']\n",
      "['Michelangelo Buonarroti']\n",
      "['Michelangelo Merisi da', 'Michelangelo Merisi da Caravaggio', 'Caravaggio', 'Caravaggio, Michelangelo Merisi da', 'Michelangelo Merisi', 'Caravaggio, Michelangelo Merisi da (Italian, Milan or Caravaggio 1571-1610 Porto Ercole)']\n",
      "['Leonardo']\n",
      "['Leonardo da Vinci']\n"
     ]
    }
   ],
   "source": [
    "class UnionFind:\n",
    "    def __init__(self):\n",
    "        self.parent = {}\n",
    "\n",
    "    def union(self, x, y):\n",
    "        self.parent[self.find(x)] = self.find(y)\n",
    "\n",
    "    def find(self, x):\n",
    "        if x not in self.parent:\n",
    "            self.parent[x] = x\n",
    "        elif self.parent[x] != x:\n",
    "            self.parent[x] = self.find(self.parent[x])\n",
    "        return self.parent[x]\n",
    "\n",
    "# Sample data\n",
    "data = {\n",
    "    'author_name': ['Rembrandt', 'Rembrandt van Rijn', 'Rembrandt Peale', 'Michelangelo', 'Michelangelo Buonarroti', 'Michelangelo Merisi da Caravaggio', 'Caravaggio', 'Caravaggio, Michelangelo Merisi da', 'Caravaggio, Michelangelo Merisi da (Italian, Milan or Caravaggio 1571-1610 Porto Ercole)', 'Leonardo', 'Leonardo da Vinci'],\n",
    "}\n",
    "\n",
    "# Assuming your dataframe is named df\n",
    "df = pd.DataFrame(data)\n",
    "\n",
    "# Load spaCy model\n",
    "nlp = spacy.load(\"en_core_web_sm\")\n",
    "\n",
    "# Extract entities using spaCy NER\n",
    "uf = UnionFind()\n",
    "\n",
    "for name in df['author_name']:\n",
    "    doc = nlp(name)\n",
    "    for ent in doc.ents:\n",
    "        if ent.label_ == 'PERSON':\n",
    "            uf.union(name, ent.text)\n",
    "\n",
    "# Group aliases\n",
    "groups = {}\n",
    "for name in uf.parent.keys():\n",
    "    parent = uf.find(name)\n",
    "    if parent not in groups:\n",
    "        groups[parent] = []\n",
    "    groups[parent].append(name)\n",
    "\n",
    "for group in groups.values():\n",
    "    print(group)"
   ]
  },
  {
   "cell_type": "markdown",
   "metadata": {},
   "source": [
    "This seems to leave"
   ]
  }
 ],
 "metadata": {
  "kernelspec": {
   "display_name": "Python 3",
   "language": "python",
   "name": "python3"
  },
  "language_info": {
   "codemirror_mode": {
    "name": "ipython",
    "version": 3
   },
   "file_extension": ".py",
   "mimetype": "text/x-python",
   "name": "python",
   "nbconvert_exporter": "python",
   "pygments_lexer": "ipython3",
   "version": "3.10.11"
  }
 },
 "nbformat": 4,
 "nbformat_minor": 2
}
