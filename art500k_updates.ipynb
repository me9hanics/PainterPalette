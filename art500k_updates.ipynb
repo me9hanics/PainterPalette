{
 "cells": [
  {
   "cell_type": "markdown",
   "metadata": {},
   "source": [
    "# Current version: 0.2.1 (unfinished)"
   ]
  },
  {
   "cell_type": "markdown",
   "metadata": {},
   "source": [
    "From 2024, updates to the dataset are handled and stored in a separate file. This is that file (previously, all Art500k dataset processing was done in *art500k.csv*, the file now renamed to *art500k_initial*)."
   ]
  },
  {
   "cell_type": "code",
   "execution_count": 13,
   "metadata": {},
   "outputs": [],
   "source": [
    "import numpy as np\n",
    "import pandas as pd\n",
    "\n",
    "url_v_latest = \"https://raw.githubusercontent.com/me9hanics/PainterPalette/main/datasets/artists.csv\"\n",
    "url_v_latest_art500k_artists = \"https://raw.githubusercontent.com/me9hanics/PainterPalette/main/datasets/art500k_artists.csv\"\n",
    "artists = pd.read_csv(url_v_latest)\n",
    "art500k_artists = pd.read_csv(url_v_latest_art500k_artists)"
   ]
  },
  {
   "cell_type": "markdown",
   "metadata": {},
   "source": [
    "## 2024.01.07: Use measures to find artists with multiple names (aliases)"
   ]
  },
  {
   "cell_type": "markdown",
   "metadata": {},
   "source": [
    "If we take a look at popular artists in the dataset, for example Rembrandt:"
   ]
  },
  {
   "cell_type": "code",
   "execution_count": 15,
   "metadata": {},
   "outputs": [],
   "source": [
    "import numpy as np\n",
    "import pandas as pd\n",
    "\n",
    "url_v_01_09 = \"https://raw.githubusercontent.com/me9hanics/PainterPalette/main/datasets/saves/art500k_artists_0_1.csv\"\n",
    "art500k_artists = pd.read_csv(url_v_01_09)"
   ]
  },
  {
   "cell_type": "code",
   "execution_count": 20,
   "metadata": {},
   "outputs": [
    {
     "data": {
      "text/plain": [
       "array(['Rembrandt Peale', 'Rembrandt', 'after Rembrandt van Rijn',\n",
       "       'Rembrandt Harmensz. van Rijn', 'Rembrandt van Rijn',\n",
       "       'British 19th Century after Rembrandt van Rijn',\n",
       "       'Richard Houston after Rembrandt van Rijn',\n",
       "       'William Byron after Rembrandt van Rijn',\n",
       "       'Georg Friedrich Schmidt after Rembrandt van Rijn',\n",
       "       'Jonas Suyderhoff after Rembrandt van Rijn',\n",
       "       'Timothy Cole after Rembrandt van Rijn',\n",
       "       'Richard Earlom after Rembrandt van Rijn',\n",
       "       'School of Rembrandt van Rijn', 'Rembrandt (Rembrandt van Rijn)',\n",
       "       'Nicolaes Maes|School of Rembrandt van Rijn',\n",
       "       'Rembrandt (Rembrandt van Rijn)|Ferdinand Bol',\n",
       "       'Rembrandt (Rembrandt van Rijn)|Nicolaes Maes',\n",
       "       'Rembrandt (Rembrandt van Rijn)|Andrea Mantegna|Rembrandt (Rembrandt van Rijn)',\n",
       "       'Attributed to Rembrandt Peale',\n",
       "       'Costantino Cumano after Rembrandt van Rijn',\n",
       "       'follower of Rembrandt Harmensz. van Rijn',\n",
       "       'Charles Turner after Rembrandt van Rijn',\n",
       "       'Rembrandt (Rembrandt van Rijn)|Josiah Boydell|John Boydell',\n",
       "       'Captain William E. Baillie|Rembrandt (Rembrandt van Rijn)',\n",
       "       'Rembrandt Harmensz van Rijn (Dutch',\n",
       "       'After the School of Rembrandt Harmenszoon van Rijn',\n",
       "       'Jean Pierre de Frey|Rembrandt (Rembrandt van Rijn)',\n",
       "       'Rembrandt (Rembrandt van Rijn)|Rembrandt (Rembrandt van Rijn)',\n",
       "       'school of Rembrandt Harmensz. van Rijn',\n",
       "       'Rembrandt (Rembrandt van Rijn)|Captain William E. Baillie',\n",
       "       'Govaert FLINCK (Discípulo de Rembrandt)',\n",
       "       'William Luson Thomas|Sir John Gilbert|Rembrandt (Rembrandt van Rijn)',\n",
       "       'Jan Georg (Joris) van Vliet|Rembrandt (Rembrandt van Rijn)',\n",
       "       'Follower of Rembrandt van Rijn'], dtype=object)"
      ]
     },
     "execution_count": 20,
     "metadata": {},
     "output_type": "execute_result"
    }
   ],
   "source": [
    "art500k_artists[art500k_artists['artist'].str.contains(\"Rembrandt\")]['artist'].unique()"
   ]
  },
  {
   "cell_type": "markdown",
   "metadata": {},
   "source": [
    "There are multiple entries for Rembrandt: *Rembrandt*, *Rembrandt van Rijn*,  *Rembrandt Harmensz. van Rijn*, *Rembrandt (Rembrandt van Rijn)*, *Rembrandt Harmensz van Rijn (Dutch)*, *Rembrandt (Rembrandt van Rijn)|Rembrandt (Rembrandt van Rijn)*. We need to combine entries for one artists if there are more than 1.<br>\n",
    "However, this is not trivial to find. \n",
    "\n",
    "The other problem is processing other instances such as \"X after Y\". I believe for these cases, LLMs may be the most useful."
   ]
  },
  {
   "cell_type": "markdown",
   "metadata": {},
   "source": [
    "As of now, we tackle this problem by using a combination of measures to find artist aliases.\n",
    "\n",
    "Considered measures:\n",
    "\n",
    "* Fuzzy string matching (Levenshtein distance) between artist names. \n",
    "* Basic string containment (other artists names containing one word artist names, e.g. Rembrandt).\n",
    "* Token-Based Matching (TBM) (Jaccard similarity) between artist names.\n",
    "* Named Entity Recognition (NER) (Spacy) to find artist names from text, then apply Coreference Resolution to link pronouns and other expressions to the correct entities.\n",
    "\n",
    "\n",
    "Other considerations: <br>\n",
    "* Phonetic matching: This could be helpful when an artist's name is spelled differently in different languages, e.g. \"Č\" (Czech) / \"Ch\" (English) / \"cs\" (Hungarian). Even if this is the case for some instances, we should find these with the Levenshtein distance search. <br>\n",
    "* Online available resources for aliases, web scraping, etc.\n",
    "* Custom rules (e.g \"... and his workshop\", \"... and his circle\", etc.)"
   ]
  },
  {
   "cell_type": "code",
   "execution_count": 10,
   "metadata": {},
   "outputs": [
    {
     "data": {
      "text/plain": [
       "{'Rembrandt van Rijn': ['Rembrandt van Rijn'],\n",
       " 'Rembrandt Peale': ['Rembrandt Peale'],\n",
       " 'Michelangelo': ['Michelangelo'],\n",
       " 'Michelangelo Buonarroti': ['Michelangelo Buonarroti'],\n",
       " 'Michelangelo Merisi da Caravaggio': ['Michelangelo Merisi da'],\n",
       " 'Michelangelo Merisi da': ['Michelangelo Merisi da Caravaggio',\n",
       "  'Caravaggio, Michelangelo Merisi da (Italian, Milan or Caravaggio 1571-1610 Porto Ercole)'],\n",
       " 'Caravaggio, Michelangelo Merisi da': ['Michelangelo Merisi', 'Caravaggio'],\n",
       " 'Caravaggio': ['Caravaggio, Michelangelo Merisi da',\n",
       "  'Caravaggio, Michelangelo Merisi da (Italian, Milan or Caravaggio 1571-1610 Porto Ercole)'],\n",
       " 'Michelangelo Merisi': ['Caravaggio, Michelangelo Merisi da'],\n",
       " 'Caravaggio, Michelangelo Merisi da (Italian, Milan or Caravaggio 1571-1610 Porto Ercole)': ['Michelangelo Merisi da',\n",
       "  'Caravaggio'],\n",
       " 'Leonardo': ['Leonardo'],\n",
       " 'Leonardo da Vinci': ['Leonardo da Vinci']}"
      ]
     },
     "execution_count": 10,
     "metadata": {},
     "output_type": "execute_result"
    }
   ],
   "source": [
    "import spacy\n",
    "import pandas as pd\n",
    "\n",
    "# Sample data\n",
    "data = {\n",
    "    'author_name': ['Rembrandt', 'Rembrandt van Rijn', 'Rembrandt Peale', 'Michelangelo', 'Michelangelo Buonarroti', 'Michelangelo Merisi da Caravaggio', 'Caravaggio', 'Caravaggio, Michelangelo Merisi da', 'Caravaggio, Michelangelo Merisi da (Italian, Milan or Caravaggio 1571-1610 Porto Ercole)', 'Leonardo', 'Leonardo da Vinci'],\n",
    "}\n",
    "\n",
    "# Assuming your dataframe is named df\n",
    "df = pd.DataFrame(data)\n",
    "\n",
    "# Load spaCy model\n",
    "nlp = spacy.load(\"en_core_web_sm\")\n",
    "\n",
    "# Extract entities using spaCy NER\n",
    "aliases = {}\n",
    "\n",
    "for name in df['author_name']:\n",
    "    doc = nlp(name)\n",
    "    for ent in doc.ents:\n",
    "        if ent.label_ == 'PERSON':\n",
    "            aliases.setdefault(name, set()).add(ent.text)\n",
    "            aliases.setdefault(ent.text, set()).add(name)\n",
    "\n",
    "# Convert sets to lists\n",
    "aliases = {key: list(value) for key, value in aliases.items()}\n",
    "aliases"
   ]
  },
  {
   "cell_type": "markdown",
   "metadata": {},
   "source": [
    "This seems to leave out many 1-word-alias cases, but it is a start."
   ]
  },
  {
   "cell_type": "code",
   "execution_count": null,
   "metadata": {},
   "outputs": [],
   "source": []
  }
 ],
 "metadata": {
  "kernelspec": {
   "display_name": "Python 3",
   "language": "python",
   "name": "python3"
  },
  "language_info": {
   "codemirror_mode": {
    "name": "ipython",
    "version": 3
   },
   "file_extension": ".py",
   "mimetype": "text/x-python",
   "name": "python",
   "nbconvert_exporter": "python",
   "pygments_lexer": "ipython3",
   "version": "3.10.11"
  }
 },
 "nbformat": 4,
 "nbformat_minor": 2
}
